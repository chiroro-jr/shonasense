{
 "cells": [
  {
   "cell_type": "markdown",
   "id": "a648ca4c-b918-43c6-93cb-65264d8453d6",
   "metadata": {},
   "source": [
    "# Build a model with it's own embedding layer\n",
    "The prepared clean data can now be used to build a language model. The model will have the following characteristics:\n",
    "- It uses a distributed respresentation for words so that words with similar meanings have a similar representation.\n",
    "- It leans the representation at the time as the learning model.\n",
    "- It learns to predict the probabability for the next word using the context of the last 100 words.\n",
    "\n",
    "Specifically, I will use an Embedding Layer to learn the representation of words, and a Long Short-Term Memory (LSTM) recurrent neural network to learn to predict words based on their context."
   ]
  },
  {
   "cell_type": "code",
   "execution_count": 1,
   "id": "f2372210-dacd-4995-bb4b-9722ca2fdda6",
   "metadata": {
    "tags": []
   },
   "outputs": [],
   "source": [
    "DATASETS_DIR = \"../datasets\"\n",
    "MODELS_DIR = \"../models\""
   ]
  },
  {
   "cell_type": "code",
   "execution_count": 2,
   "id": "b21ca403-4c0c-43bc-86a4-bd93a5e05caf",
   "metadata": {
    "tags": []
   },
   "outputs": [
    {
     "data": {
      "text/plain": [
       "['premier soccer league psl iri kudya magaka mambishi zvichitevera mhirizhonga yakaitika',\n",
       " 'soccer league psl iri kudya magaka mambishi zvichitevera mhirizhonga yakaitika kubabourfields',\n",
       " 'league psl iri kudya magaka mambishi zvichitevera mhirizhonga yakaitika kubabourfields kubulawayo',\n",
       " 'psl iri kudya magaka mambishi zvichitevera mhirizhonga yakaitika kubabourfields kubulawayo nezuro']"
      ]
     },
     "execution_count": 2,
     "metadata": {},
     "output_type": "execute_result"
    }
   ],
   "source": [
    "# load doc into memory\n",
    "def load_doc(filename):\n",
    "  # open the file as read only\n",
    "  file = open(filename, 'r')\n",
    "\n",
    "  # read all the text\n",
    "  text = file.read()\n",
    "\n",
    "  # close the file\n",
    "  file.close()\n",
    "  return text\n",
    "\n",
    "in_filename = f\"{DATASETS_DIR}/content_sequences.txt\"\n",
    "doc = load_doc(in_filename)\n",
    "lines = doc.split('\\n')\n",
    "lines[:4]"
   ]
  },
  {
   "cell_type": "markdown",
   "id": "87a0dfac-9789-4899-bbc3-84667507ad32",
   "metadata": {},
   "source": [
    "## Encode sequences with using `Tokenizer`"
   ]
  },
  {
   "cell_type": "code",
   "execution_count": 3,
   "id": "94fb144a-fa0c-480f-904f-d3b0bab5a0f5",
   "metadata": {
    "tags": []
   },
   "outputs": [],
   "source": [
    "from pickle import load\n",
    "\n",
    "# load the tokenizer\n",
    "tokenizer = load(open(f'{MODELS_DIR}/tokenizer.pkl', 'rb'))"
   ]
  },
  {
   "cell_type": "code",
   "execution_count": 4,
   "id": "a2c7b8fd-2ada-4c38-aeb8-bdb879ba4e40",
   "metadata": {
    "tags": []
   },
   "outputs": [],
   "source": [
    "# integer encode sequences of words\n",
    "sequences = tokenizer.texts_to_sequences(lines)"
   ]
  },
  {
   "cell_type": "markdown",
   "id": "ad59c28f-28d1-425a-a6af-2bb22b1ff41d",
   "metadata": {},
   "source": [
    "## Sequence inputs and output\n",
    "Now that there are encoded input sequences, they need to be seperated into input($X$) and output($y$). This can be done via array slicing."
   ]
  },
  {
   "cell_type": "code",
   "execution_count": 5,
   "id": "43755a06-43ad-44e0-a033-e29464e5e39b",
   "metadata": {
    "tags": []
   },
   "outputs": [],
   "source": [
    "# Seperate into input and output\n",
    "from numpy import array\n",
    "sequences = array(sequences)\n",
    "X, y = sequences[:, :-1], sequences[:,-1]"
   ]
  },
  {
   "cell_type": "code",
   "execution_count": 6,
   "id": "c467e1d2-98ed-4074-b86d-e1babfdfa44b",
   "metadata": {
    "tags": []
   },
   "outputs": [
    {
     "data": {
      "text/plain": [
       "(5498, 10)"
      ]
     },
     "execution_count": 6,
     "metadata": {},
     "output_type": "execute_result"
    }
   ],
   "source": [
    "X.shape"
   ]
  },
  {
   "cell_type": "code",
   "execution_count": 7,
   "id": "68979591-4405-4959-8a30-59a8d5e75799",
   "metadata": {
    "tags": []
   },
   "outputs": [
    {
     "data": {
      "text/plain": [
       "(5498,)"
      ]
     },
     "execution_count": 7,
     "metadata": {},
     "output_type": "execute_result"
    }
   ],
   "source": [
    "y.shape"
   ]
  },
  {
   "cell_type": "markdown",
   "id": "3ab2a514-23e2-4eb0-aad1-c3d34038c794",
   "metadata": {},
   "source": [
    "After seperating, each output word needs to be one hot encoded. This means converting it from an integer to a vector of 0 values, one for each word in the vocabulary, with a 1 to indicate the specific word at the of the words integer value. This is so that the model learns to predict the probability distribution for the next word and the ground truth from which to learn from is 0 for all words except the actual word that comes next."
   ]
  },
  {
   "cell_type": "code",
   "execution_count": 8,
   "id": "4766bffe-3b15-4195-bd0a-2743e9f5da03",
   "metadata": {
    "tags": []
   },
   "outputs": [
    {
     "data": {
      "text/plain": [
       "10"
      ]
     },
     "execution_count": 8,
     "metadata": {},
     "output_type": "execute_result"
    }
   ],
   "source": [
    "# one-hot encode the output word\n",
    "from keras.utils import to_categorical\n",
    "\n",
    "vocab_size = len(tokenizer.word_index) + 1\n",
    "\n",
    "y = to_categorical(y, num_classes=vocab_size)\n",
    "seq_length = X.shape[1]\n",
    "seq_length"
   ]
  },
  {
   "cell_type": "markdown",
   "id": "ff557743-10b2-4eb3-bfc8-345b71eb06ac",
   "metadata": {},
   "source": [
    "## Fit the model: Inial training"
   ]
  },
  {
   "cell_type": "code",
   "execution_count": 9,
   "id": "eee61b5b-638d-446d-800b-e93121b1e7c5",
   "metadata": {
    "tags": []
   },
   "outputs": [],
   "source": [
    "from keras.models import Sequential\n",
    "from keras.layers import Dense\n",
    "from keras.layers import LSTM, Bidirectional, Dropout\n",
    "from keras.layers import Embedding\n",
    "from keras.utils import plot_model\n",
    "\n",
    "# define the model\n",
    "def define_model_with_embedding(vocab_size, seq_length, summary=True):\n",
    "  model = Sequential()\n",
    "  model.add(Embedding(vocab_size, 100, input_length=seq_length))\n",
    "  model.add(Bidirectional(LSTM(100)))\n",
    "  model.add(Dropout(0.2))\n",
    "  model.add(Dense(100, activation='relu'))\n",
    "  model.add(Dropout(0.2))\n",
    "  model.add(Dense(vocab_size, activation='softmax'))\n",
    "\n",
    "  # compile network\n",
    "  model.compile(loss='categorical_crossentropy', optimizer='adam', metrics=['accuracy'])\n",
    "\n",
    "  # summarize the model\n",
    "  if summary:\n",
    "    model.summary()\n",
    "    model_img_path = f'{MODELS_DIR}/model_with_embedding.png'\n",
    "    plot_model(model, to_file=model_img_path, show_shapes=True)\n",
    "  return model"
   ]
  },
  {
   "cell_type": "code",
   "execution_count": 10,
   "id": "8741b438-1b47-4249-84ea-61c72a679223",
   "metadata": {
    "tags": []
   },
   "outputs": [
    {
     "name": "stdout",
     "output_type": "stream",
     "text": [
      "Model: \"sequential\"\n",
      "_________________________________________________________________\n",
      " Layer (type)                Output Shape              Param #   \n",
      "=================================================================\n",
      " embedding (Embedding)       (None, 10, 100)           276600    \n",
      "                                                                 \n",
      " bidirectional (Bidirection  (None, 200)               160800    \n",
      " al)                                                             \n",
      "                                                                 \n",
      " dropout (Dropout)           (None, 200)               0         \n",
      "                                                                 \n",
      " dense (Dense)               (None, 100)               20100     \n",
      "                                                                 \n",
      " dropout_1 (Dropout)         (None, 100)               0         \n",
      "                                                                 \n",
      " dense_1 (Dense)             (None, 2766)              279366    \n",
      "                                                                 \n",
      "=================================================================\n",
      "Total params: 736866 (2.81 MB)\n",
      "Trainable params: 736866 (2.81 MB)\n",
      "Non-trainable params: 0 (0.00 Byte)\n",
      "_________________________________________________________________\n"
     ]
    }
   ],
   "source": [
    "# define model\n",
    "model_with_embedding = define_model_with_embedding(vocab_size, seq_length)"
   ]
  },
  {
   "cell_type": "code",
   "execution_count": 11,
   "id": "07fc6108-a314-4445-bc58-032b30008564",
   "metadata": {
    "tags": []
   },
   "outputs": [
    {
     "name": "stdout",
     "output_type": "stream",
     "text": [
      "Epoch 1/100\n",
      "43/43 [==============================] - 8s 45ms/step - loss: 7.8645 - accuracy: 0.0191\n",
      "Epoch 2/100\n",
      "43/43 [==============================] - 2s 44ms/step - loss: 7.4989 - accuracy: 0.0238\n",
      "Epoch 3/100\n",
      "43/43 [==============================] - 2s 44ms/step - loss: 7.3511 - accuracy: 0.0238\n",
      "Epoch 4/100\n",
      "43/43 [==============================] - 2s 43ms/step - loss: 7.2098 - accuracy: 0.0242\n",
      "Epoch 5/100\n",
      "43/43 [==============================] - 2s 42ms/step - loss: 7.0139 - accuracy: 0.0246\n",
      "Epoch 6/100\n",
      "43/43 [==============================] - 2s 44ms/step - loss: 6.8372 - accuracy: 0.0233\n",
      "Epoch 7/100\n",
      "43/43 [==============================] - 2s 44ms/step - loss: 6.6735 - accuracy: 0.0247\n",
      "Epoch 8/100\n",
      "43/43 [==============================] - 2s 42ms/step - loss: 6.5169 - accuracy: 0.0247\n",
      "Epoch 9/100\n",
      "43/43 [==============================] - 2s 45ms/step - loss: 6.3926 - accuracy: 0.0264\n",
      "Epoch 10/100\n",
      "43/43 [==============================] - 2s 43ms/step - loss: 6.2934 - accuracy: 0.0258\n",
      "Epoch 11/100\n",
      "43/43 [==============================] - 2s 40ms/step - loss: 6.2042 - accuracy: 0.0267\n",
      "Epoch 12/100\n",
      "43/43 [==============================] - 2s 42ms/step - loss: 6.1154 - accuracy: 0.0284\n",
      "Epoch 13/100\n",
      "43/43 [==============================] - 2s 44ms/step - loss: 6.0423 - accuracy: 0.0264\n",
      "Epoch 14/100\n",
      "43/43 [==============================] - 2s 44ms/step - loss: 5.9739 - accuracy: 0.0278\n",
      "Epoch 15/100\n",
      "43/43 [==============================] - 2s 43ms/step - loss: 5.8978 - accuracy: 0.0307\n",
      "Epoch 16/100\n",
      "43/43 [==============================] - 2s 45ms/step - loss: 5.8429 - accuracy: 0.0358\n",
      "Epoch 17/100\n",
      "43/43 [==============================] - 2s 44ms/step - loss: 5.7782 - accuracy: 0.0302\n",
      "Epoch 18/100\n",
      "43/43 [==============================] - 2s 43ms/step - loss: 5.6894 - accuracy: 0.0378\n",
      "Epoch 19/100\n",
      "43/43 [==============================] - 2s 45ms/step - loss: 5.6190 - accuracy: 0.0362\n",
      "Epoch 20/100\n",
      "43/43 [==============================] - 2s 43ms/step - loss: 5.5354 - accuracy: 0.0409\n",
      "Epoch 21/100\n",
      "43/43 [==============================] - 2s 45ms/step - loss: 5.4670 - accuracy: 0.0413\n",
      "Epoch 22/100\n",
      "43/43 [==============================] - 2s 45ms/step - loss: 5.4233 - accuracy: 0.0431\n",
      "Epoch 23/100\n",
      "43/43 [==============================] - 2s 43ms/step - loss: 5.3358 - accuracy: 0.0457\n",
      "Epoch 24/100\n",
      "43/43 [==============================] - 2s 43ms/step - loss: 5.2480 - accuracy: 0.0506\n",
      "Epoch 25/100\n",
      "43/43 [==============================] - 2s 42ms/step - loss: 5.1508 - accuracy: 0.0546\n",
      "Epoch 26/100\n",
      "43/43 [==============================] - 2s 43ms/step - loss: 5.0808 - accuracy: 0.0584\n",
      "Epoch 27/100\n",
      "43/43 [==============================] - 2s 44ms/step - loss: 4.9904 - accuracy: 0.0646\n",
      "Epoch 28/100\n",
      "43/43 [==============================] - 2s 46ms/step - loss: 4.9169 - accuracy: 0.0662\n",
      "Epoch 29/100\n",
      "43/43 [==============================] - 2s 48ms/step - loss: 4.8155 - accuracy: 0.0722\n",
      "Epoch 30/100\n",
      "43/43 [==============================] - 2s 46ms/step - loss: 4.7086 - accuracy: 0.0809\n",
      "Epoch 31/100\n",
      "43/43 [==============================] - 2s 47ms/step - loss: 4.6215 - accuracy: 0.0857\n",
      "Epoch 32/100\n",
      "43/43 [==============================] - 2s 45ms/step - loss: 4.5129 - accuracy: 0.0940\n",
      "Epoch 33/100\n",
      "43/43 [==============================] - 2s 45ms/step - loss: 4.4337 - accuracy: 0.0975\n",
      "Epoch 34/100\n",
      "43/43 [==============================] - 2s 45ms/step - loss: 4.3292 - accuracy: 0.1017\n",
      "Epoch 35/100\n",
      "43/43 [==============================] - 2s 46ms/step - loss: 4.2327 - accuracy: 0.1108\n",
      "Epoch 36/100\n",
      "43/43 [==============================] - 2s 47ms/step - loss: 4.1300 - accuracy: 0.1204\n",
      "Epoch 37/100\n",
      "43/43 [==============================] - 2s 46ms/step - loss: 4.0226 - accuracy: 0.1344\n",
      "Epoch 38/100\n",
      "43/43 [==============================] - 2s 47ms/step - loss: 3.9478 - accuracy: 0.1421\n",
      "Epoch 39/100\n",
      "43/43 [==============================] - 2s 49ms/step - loss: 3.8500 - accuracy: 0.1426\n",
      "Epoch 40/100\n",
      "43/43 [==============================] - 2s 46ms/step - loss: 3.7638 - accuracy: 0.1553\n",
      "Epoch 41/100\n",
      "43/43 [==============================] - 2s 45ms/step - loss: 3.6763 - accuracy: 0.1650\n",
      "Epoch 42/100\n",
      "43/43 [==============================] - 2s 46ms/step - loss: 3.6018 - accuracy: 0.1746\n",
      "Epoch 43/100\n",
      "43/43 [==============================] - 2s 45ms/step - loss: 3.5091 - accuracy: 0.1804\n",
      "Epoch 44/100\n",
      "43/43 [==============================] - 2s 45ms/step - loss: 3.4256 - accuracy: 0.1903\n",
      "Epoch 45/100\n",
      "43/43 [==============================] - 2s 45ms/step - loss: 3.3291 - accuracy: 0.2008\n",
      "Epoch 46/100\n",
      "43/43 [==============================] - 2s 46ms/step - loss: 3.2269 - accuracy: 0.2124\n",
      "Epoch 47/100\n",
      "43/43 [==============================] - 2s 45ms/step - loss: 3.1670 - accuracy: 0.2299\n",
      "Epoch 48/100\n",
      "43/43 [==============================] - 2s 48ms/step - loss: 3.0716 - accuracy: 0.2397\n",
      "Epoch 49/100\n",
      "43/43 [==============================] - 2s 45ms/step - loss: 3.0048 - accuracy: 0.2568\n",
      "Epoch 50/100\n",
      "43/43 [==============================] - 2s 45ms/step - loss: 2.9341 - accuracy: 0.2645\n",
      "Epoch 51/100\n",
      "43/43 [==============================] - 2s 45ms/step - loss: 2.8421 - accuracy: 0.2805\n",
      "Epoch 52/100\n",
      "43/43 [==============================] - 2s 47ms/step - loss: 2.7487 - accuracy: 0.3021\n",
      "Epoch 53/100\n",
      "43/43 [==============================] - 2s 46ms/step - loss: 2.6904 - accuracy: 0.3056\n",
      "Epoch 54/100\n",
      "43/43 [==============================] - 2s 46ms/step - loss: 2.6183 - accuracy: 0.3203\n",
      "Epoch 55/100\n",
      "43/43 [==============================] - 2s 46ms/step - loss: 2.5478 - accuracy: 0.3339\n",
      "Epoch 56/100\n",
      "43/43 [==============================] - 2s 46ms/step - loss: 2.4679 - accuracy: 0.3459\n",
      "Epoch 57/100\n",
      "43/43 [==============================] - 2s 45ms/step - loss: 2.4042 - accuracy: 0.3532\n",
      "Epoch 58/100\n",
      "43/43 [==============================] - 2s 48ms/step - loss: 2.3037 - accuracy: 0.3827\n",
      "Epoch 59/100\n",
      "43/43 [==============================] - 2s 47ms/step - loss: 2.2224 - accuracy: 0.4005\n",
      "Epoch 60/100\n",
      "43/43 [==============================] - 2s 47ms/step - loss: 2.1528 - accuracy: 0.4182\n",
      "Epoch 61/100\n",
      "43/43 [==============================] - 2s 46ms/step - loss: 2.1152 - accuracy: 0.4174\n",
      "Epoch 62/100\n",
      "43/43 [==============================] - 2s 52ms/step - loss: 2.0457 - accuracy: 0.4372\n",
      "Epoch 63/100\n",
      "43/43 [==============================] - 3s 71ms/step - loss: 1.9722 - accuracy: 0.4574\n",
      "Epoch 64/100\n",
      "43/43 [==============================] - 3s 73ms/step - loss: 1.9230 - accuracy: 0.4694\n",
      "Epoch 65/100\n",
      "43/43 [==============================] - 3s 73ms/step - loss: 1.8555 - accuracy: 0.4864\n",
      "Epoch 66/100\n",
      "43/43 [==============================] - 3s 74ms/step - loss: 1.7678 - accuracy: 0.5060\n",
      "Epoch 67/100\n",
      "43/43 [==============================] - 3s 75ms/step - loss: 1.7216 - accuracy: 0.5191\n",
      "Epoch 68/100\n",
      "43/43 [==============================] - 3s 80ms/step - loss: 1.6722 - accuracy: 0.5284\n",
      "Epoch 69/100\n",
      "43/43 [==============================] - 3s 73ms/step - loss: 1.6219 - accuracy: 0.5418\n",
      "Epoch 70/100\n",
      "43/43 [==============================] - 3s 76ms/step - loss: 1.5489 - accuracy: 0.5613\n",
      "Epoch 71/100\n",
      "43/43 [==============================] - 3s 80ms/step - loss: 1.5024 - accuracy: 0.5744\n",
      "Epoch 72/100\n",
      "43/43 [==============================] - 3s 76ms/step - loss: 1.4270 - accuracy: 0.5904\n",
      "Epoch 73/100\n",
      "43/43 [==============================] - 3s 75ms/step - loss: 1.3728 - accuracy: 0.6080\n",
      "Epoch 74/100\n",
      "43/43 [==============================] - 3s 77ms/step - loss: 1.3703 - accuracy: 0.6037\n",
      "Epoch 75/100\n",
      "43/43 [==============================] - 3s 76ms/step - loss: 1.3307 - accuracy: 0.6153\n",
      "Epoch 76/100\n",
      "43/43 [==============================] - 3s 77ms/step - loss: 1.2723 - accuracy: 0.6313\n",
      "Epoch 77/100\n",
      "43/43 [==============================] - 3s 76ms/step - loss: 1.2391 - accuracy: 0.6377\n",
      "Epoch 78/100\n",
      "43/43 [==============================] - 3s 76ms/step - loss: 1.1995 - accuracy: 0.6488\n",
      "Epoch 79/100\n",
      "43/43 [==============================] - 4s 82ms/step - loss: 1.1816 - accuracy: 0.6530\n",
      "Epoch 80/100\n",
      "43/43 [==============================] - 4s 83ms/step - loss: 1.1219 - accuracy: 0.6730\n",
      "Epoch 81/100\n",
      "43/43 [==============================] - 4s 86ms/step - loss: 1.0913 - accuracy: 0.6790\n",
      "Epoch 82/100\n",
      "43/43 [==============================] - 3s 81ms/step - loss: 1.0578 - accuracy: 0.6884\n",
      "Epoch 83/100\n",
      "43/43 [==============================] - 4s 82ms/step - loss: 1.0164 - accuracy: 0.7015\n",
      "Epoch 84/100\n",
      "43/43 [==============================] - 3s 80ms/step - loss: 0.9907 - accuracy: 0.7088\n",
      "Epoch 85/100\n",
      "43/43 [==============================] - 3s 78ms/step - loss: 0.9706 - accuracy: 0.7095\n",
      "Epoch 86/100\n",
      "43/43 [==============================] - 3s 78ms/step - loss: 0.9248 - accuracy: 0.7355\n",
      "Epoch 87/100\n",
      "43/43 [==============================] - 3s 79ms/step - loss: 0.8860 - accuracy: 0.7423\n",
      "Epoch 88/100\n",
      "43/43 [==============================] - 3s 77ms/step - loss: 0.8920 - accuracy: 0.7412\n",
      "Epoch 89/100\n",
      "43/43 [==============================] - 3s 78ms/step - loss: 0.8648 - accuracy: 0.7432\n",
      "Epoch 90/100\n",
      "43/43 [==============================] - 3s 78ms/step - loss: 0.7861 - accuracy: 0.7716\n",
      "Epoch 91/100\n",
      "43/43 [==============================] - 3s 76ms/step - loss: 0.7953 - accuracy: 0.7690\n",
      "Epoch 92/100\n",
      "43/43 [==============================] - 3s 75ms/step - loss: 0.7682 - accuracy: 0.7705\n",
      "Epoch 93/100\n",
      "43/43 [==============================] - 3s 78ms/step - loss: 0.7706 - accuracy: 0.7674\n",
      "Epoch 94/100\n",
      "43/43 [==============================] - 3s 77ms/step - loss: 0.7323 - accuracy: 0.7834\n",
      "Epoch 95/100\n",
      "43/43 [==============================] - 3s 80ms/step - loss: 0.7268 - accuracy: 0.7848\n",
      "Epoch 96/100\n",
      "43/43 [==============================] - 4s 101ms/step - loss: 0.7052 - accuracy: 0.7857\n",
      "Epoch 97/100\n",
      "43/43 [==============================] - 6s 129ms/step - loss: 0.6947 - accuracy: 0.7968\n",
      "Epoch 98/100\n",
      "43/43 [==============================] - 5s 125ms/step - loss: 0.7039 - accuracy: 0.7916\n",
      "Epoch 99/100\n",
      "43/43 [==============================] - 4s 101ms/step - loss: 0.6872 - accuracy: 0.7947\n",
      "Epoch 100/100\n",
      "43/43 [==============================] - 4s 101ms/step - loss: 0.6663 - accuracy: 0.8056\n"
     ]
    },
    {
     "data": {
      "text/plain": [
       "<keras.src.callbacks.History at 0x1dae97c6d90>"
      ]
     },
     "execution_count": 11,
     "metadata": {},
     "output_type": "execute_result"
    }
   ],
   "source": [
    "# fit model\n",
    "model_with_embedding.fit(X, y, batch_size=128, epochs=100)"
   ]
  },
  {
   "cell_type": "code",
   "execution_count": 22,
   "id": "7828b510-e73c-415d-8915-753c61257577",
   "metadata": {
    "tags": []
   },
   "outputs": [],
   "source": [
    "from pickle import dump\n",
    "\n",
    "# save the model to file\n",
    "model_with_embedding.save(f'{MODELS_DIR}/model_with_embedding.keras', save_format=\"tf\")"
   ]
  },
  {
   "cell_type": "code",
   "execution_count": 13,
   "id": "cf1b20a2-9433-4e4e-8914-b52ab032eb42",
   "metadata": {
    "tags": []
   },
   "outputs": [],
   "source": [
    "# Make new predictions\n",
    "from random import randint\n",
    "from pickle import load\n",
    "from keras.models import load_model\n",
    "from keras.preprocessing.sequence import pad_sequences\n",
    "import numpy as np\n",
    "# generate a sequence from a language model\n",
    "def generate_seq(model, tokenizer, seq_length, seed_text, n_words):\n",
    "  result = list()\n",
    "  in_text = seed_text\n",
    "  # generate a fixed number of words\n",
    "  for _ in range(n_words):\n",
    "    # encode the text as integer\n",
    "    encoded = tokenizer.texts_to_sequences([in_text])[0]\n",
    "    # truncate sequences to a fixed length\n",
    "    encoded = pad_sequences([encoded], maxlen=seq_length, truncating='pre')\n",
    "    # predict probabilities for each word\n",
    "    yhat = model.predict(encoded, verbose=0)\n",
    "    # map predicted word index to word\n",
    "    predicted_word_index = np.argmax(yhat)  # Find the index with the highest probability\n",
    "    out_word = ''\n",
    "    for word, index in tokenizer.word_index.items():\n",
    "        if index == predicted_word_index:\n",
    "            out_word = word\n",
    "            break\n",
    "    # append to input\n",
    "    in_text += ' ' + out_word\n",
    "    result.append(out_word)\n",
    "  return ' '.join(result)"
   ]
  },
  {
   "cell_type": "code",
   "execution_count": null,
   "id": "c11b4e1c-2b69-42d1-bd77-eaf4cff55b78",
   "metadata": {
    "tags": []
   },
   "outputs": [
    {
     "name": "stdout",
     "output_type": "stream",
     "text": [
      "mapurisa vakaona kuti akauraiwa uyu ndinato chikore wekumkoba uyo mutumbi wake\n",
      "\n"
     ]
    }
   ],
   "source": [
    "# select a seed text\n",
    "seed_text = lines[randint(0,len(lines))]\n",
    "print(seed_text + '\\n')"
   ]
  },
  {
   "cell_type": "code",
   "execution_count": 21,
   "id": "1156b648-88a8-4a7d-82ef-244f02064b62",
   "metadata": {
    "tags": []
   },
   "outputs": [
    {
     "name": "stdout",
     "output_type": "stream",
     "text": [
      "kuti nhavu yemuno iyende mberi zvakakosha kuti vagari vemuno vange [START] hainei zviye nesu pfungwa kwemhepo hwababa anoti zvekuibvisa munhu joseph [END]\n"
     ]
    }
   ],
   "source": [
    "seed_text = \"kuti nhavu yemuno iyende mberi zvakakosha kuti vagari vemuno vange\"\n",
    "pred = generate_seq(model_with_embedding, tokenizer, seq_length, seed_text, 10)\n",
    "print(seed_text + ' [START] ' + pred + ' [END]')"
   ]
  },
  {
   "cell_type": "markdown",
   "id": "6503a104-2414-4a3f-92ed-f02c38ba02db",
   "metadata": {},
   "source": [
    "## Training with cross validation for model selection"
   ]
  },
  {
   "cell_type": "code",
   "execution_count": 42,
   "id": "fae0d2a0-c59a-45c9-ab78-c785f18dd4bb",
   "metadata": {
    "tags": []
   },
   "outputs": [],
   "source": [
    "from sklearn.model_selection import KFold\n",
    "import numpy as np"
   ]
  },
  {
   "cell_type": "code",
   "execution_count": 38,
   "id": "ce97903b-a5d5-4b2d-8b89-e75883beecbb",
   "metadata": {
    "tags": []
   },
   "outputs": [],
   "source": [
    "# fix random seed for reproducibility\n",
    "seed = 7\n",
    "np.random.seed(seed)"
   ]
  },
  {
   "cell_type": "code",
   "execution_count": null,
   "id": "82d57212-9a1e-483e-899e-0ef3a2b0ab9c",
   "metadata": {
    "tags": []
   },
   "outputs": [],
   "source": [
    "# define 5-fold cross validation test harness\n",
    "kfold = KFold(n_splits=5, shuffle=True, random_state=seed)\n",
    "\n",
    "cvscores = []\n",
    "for train, test in kfold.split(X, y):\n",
    "    # compile the model\n",
    "    model_with_embedding = define_model_with_embedding(vocab_size, seq_length, summary=False)\n",
    "    \n",
    "    # Fit the model\n",
    "    model_with_embedding.fit(X[train], y[train], epochs=20, batch_size=128)\n",
    "    \n",
    "    # Evaluate the model\n",
    "    model_with_embedding.evaluate(X[test], y[test])\n",
    "    print(\"Accuracy = %s: %.2f%%\" % (model_with_embedding.metrics_names[1], scores[1]*100))\n",
    "    cvscores.append(scores[1] * 100)\n",
    "print(\"Mean Accuracy = %.2f%% (+/- %.2f%%)\" % (np.mean(cvscores), np.std(cvscores)))"
   ]
  }
 ],
 "metadata": {
  "kernelspec": {
   "display_name": "Python 3 (ipykernel)",
   "language": "python",
   "name": "python3"
  },
  "language_info": {
   "codemirror_mode": {
    "name": "ipython",
    "version": 3
   },
   "file_extension": ".py",
   "mimetype": "text/x-python",
   "name": "python",
   "nbconvert_exporter": "python",
   "pygments_lexer": "ipython3",
   "version": "3.11.4"
  }
 },
 "nbformat": 4,
 "nbformat_minor": 5
}
