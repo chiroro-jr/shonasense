{
 "cells": [
  {
   "cell_type": "markdown",
   "id": "3362d49f-cdc4-4b2e-a1b5-72ab01e3bba5",
   "metadata": {},
   "source": [
    "# Build a model with Gensim word embeddings\n",
    "This will be mostly the same as the other model but instead of having it's own embedding layer it will contain embeddings from Gensim's `Word2Vec`"
   ]
  },
  {
   "cell_type": "code",
   "execution_count": 1,
   "id": "336514ec-c48d-4d3f-955f-60de18bfcf7f",
   "metadata": {
    "tags": []
   },
   "outputs": [],
   "source": [
    "DATASETS_DIR = \"../datasets\"\n",
    "MODELS_DIR = \"../models\""
   ]
  },
  {
   "cell_type": "code",
   "execution_count": 2,
   "id": "d695326e-8bd0-41c2-a145-11d49c04e6d2",
   "metadata": {
    "tags": []
   },
   "outputs": [
    {
     "data": {
      "text/plain": [
       "['premier soccer league psl iri kudya magaka mambishi zvichitevera mhirizhonga yakaitika',\n",
       " 'soccer league psl iri kudya magaka mambishi zvichitevera mhirizhonga yakaitika kubabourfields',\n",
       " 'league psl iri kudya magaka mambishi zvichitevera mhirizhonga yakaitika kubabourfields kubulawayo',\n",
       " 'psl iri kudya magaka mambishi zvichitevera mhirizhonga yakaitika kubabourfields kubulawayo nezuro']"
      ]
     },
     "execution_count": 2,
     "metadata": {},
     "output_type": "execute_result"
    }
   ],
   "source": [
    "# load doc into memory\n",
    "def load_doc(filename):\n",
    "  # open the file as read only\n",
    "  file = open(filename, 'r')\n",
    "\n",
    "  # read all the text\n",
    "  text = file.read()\n",
    "\n",
    "  # close the file\n",
    "  file.close()\n",
    "  return text\n",
    "\n",
    "in_filename = f\"{DATASETS_DIR}/content_sequences.txt\"\n",
    "doc = load_doc(in_filename)\n",
    "lines = doc.split('\\n')\n",
    "lines[:4]"
   ]
  },
  {
   "cell_type": "markdown",
   "id": "ecb2ba98-e859-46b3-8933-fb5f815010d6",
   "metadata": {
    "tags": []
   },
   "source": [
    "## Encode sequences with using `Word2Vec` word index"
   ]
  },
  {
   "cell_type": "code",
   "execution_count": 3,
   "id": "42129a1f-d535-44f3-999a-65179fcc3615",
   "metadata": {
    "tags": []
   },
   "outputs": [],
   "source": [
    "# define a function to encode text sequences using Word2Vec word index\n",
    "# instead of Tokenizer's word index\n",
    "# This is because one of the models will use external word embeddings\n",
    "def encode_text_with_word2vec(input_text, model, oov_token=\"<OOV>\"):\n",
    "  # OOV configuration\n",
    "  oov_index = -1\n",
    "  oov_token = \"<OOV>\"\n",
    "\n",
    "  # list of encoded sequences\n",
    "  sequences = list()\n",
    "\n",
    "  for text in input_text:\n",
    "    # split the text into words (Tokenize it)\n",
    "    words = text.split()\n",
    "    sequence = list()\n",
    "\n",
    "    # map words to indeces using Word2Vec's word index\n",
    "    for word in words:\n",
    "      if word in model.wv.key_to_index:\n",
    "        sequence.append(model.wv.key_to_index[word])\n",
    "      else:\n",
    "        # Handle OOV words by mapping them to a special token (oov_token in this case)\n",
    "        sequence.append(model.wv.key_to_index.get(oov_token,0)) # 0 for unknown words\n",
    "\n",
    "    sequences.append(sequence)\n",
    "\n",
    "  return sequences"
   ]
  },
  {
   "cell_type": "code",
   "execution_count": 4,
   "id": "c1a826d1-7e09-4e25-b3a0-9f2a30051e77",
   "metadata": {
    "tags": []
   },
   "outputs": [],
   "source": [
    "# load Word2Vec model\n",
    "from gensim.models import Word2Vec\n",
    "\n",
    "w2v_model = Word2Vec.load(f\"{MODELS_DIR}/word2vec.model\")"
   ]
  },
  {
   "cell_type": "code",
   "execution_count": 5,
   "id": "1a31d686-a98d-43f6-9644-1f8b08a2ed38",
   "metadata": {
    "tags": []
   },
   "outputs": [],
   "source": [
    "sequences = encode_text_with_word2vec(lines, w2v_model)"
   ]
  },
  {
   "cell_type": "markdown",
   "id": "bb6cd6b2-3ef6-4d2c-9526-a8154512b306",
   "metadata": {},
   "source": [
    "## Sequence inputs and output\n",
    "Now that there are encoded input sequences, they need to be seperated into input($X$) and output($y$). This can be done via array slicing."
   ]
  },
  {
   "cell_type": "code",
   "execution_count": 6,
   "id": "b1534be0-ff64-46da-b341-9ceaac2eb24c",
   "metadata": {
    "tags": []
   },
   "outputs": [],
   "source": [
    "from numpy import array\n",
    "sequences = array(sequences)\n",
    "X, y = sequences[:, :-1], sequences[:,-1]"
   ]
  },
  {
   "cell_type": "code",
   "execution_count": 7,
   "id": "067ab3ce-dc35-4b85-8c78-1439548bf0d9",
   "metadata": {
    "tags": []
   },
   "outputs": [
    {
     "data": {
      "text/plain": [
       "(5498, 10)"
      ]
     },
     "execution_count": 7,
     "metadata": {},
     "output_type": "execute_result"
    }
   ],
   "source": [
    "X.shape"
   ]
  },
  {
   "cell_type": "code",
   "execution_count": 8,
   "id": "0d66cab3-864f-4a0e-bb2f-176eec7b3ff3",
   "metadata": {
    "tags": []
   },
   "outputs": [
    {
     "data": {
      "text/plain": [
       "(5498,)"
      ]
     },
     "execution_count": 8,
     "metadata": {},
     "output_type": "execute_result"
    }
   ],
   "source": [
    "y.shape"
   ]
  },
  {
   "cell_type": "markdown",
   "id": "916e79b4-02b8-4e5d-9116-b1fecd7fc50b",
   "metadata": {},
   "source": [
    "After seperating, each output word needs to be one hot encoded. This means converting it from an integer to a vector of 0 values, one for each word in the vocabulary, with a 1 to indicate the specific word at the of the words integer value. This is so that the model learns to predict the probability distribution for the next word and the ground truth from which to learn from is 0 for all words except the actual word that comes next."
   ]
  },
  {
   "cell_type": "code",
   "execution_count": 9,
   "id": "d9d25d4b-2b67-42ee-af72-598209e3dfcf",
   "metadata": {
    "tags": []
   },
   "outputs": [
    {
     "data": {
      "text/plain": [
       "10"
      ]
     },
     "execution_count": 9,
     "metadata": {},
     "output_type": "execute_result"
    }
   ],
   "source": [
    "# one-hot encode the output word\n",
    "from keras.utils import to_categorical\n",
    "\n",
    "vocab_size = len(w2v_model.wv.key_to_index)\n",
    "\n",
    "y = to_categorical(y, num_classes=vocab_size)\n",
    "seq_length = X.shape[1]\n",
    "seq_length"
   ]
  },
  {
   "cell_type": "markdown",
   "id": "f9148bae-34cb-4fc3-95ed-2bef2ddd5fcd",
   "metadata": {},
   "source": [
    "## Fit the model: initial training"
   ]
  },
  {
   "cell_type": "code",
   "execution_count": 10,
   "id": "6d6f0098-4b50-4bea-b20c-b5cf35be6ef3",
   "metadata": {
    "tags": []
   },
   "outputs": [],
   "source": [
    "from keras.models import Sequential\n",
    "from keras.layers import Dense\n",
    "from keras.layers import LSTM, Bidirectional, Dropout\n",
    "from keras.layers import Embedding\n",
    "from keras.utils import plot_model\n",
    "\n",
    "# define the model\n",
    "def define_model_with_embedding(vocab_size, seq_length, summary=True):\n",
    "  model = Sequential()\n",
    "  model.add(Embedding(len(w2v_model.wv.key_to_index), 100, weights=[w2v_model.wv.vectors], trainable=False))\n",
    "  model.add(Bidirectional(LSTM(100)))\n",
    "  model.add(Dropout(0.2))\n",
    "  model.add(Dense(100, activation='relu'))\n",
    "  model.add(Dropout(0.2))\n",
    "  model.add(Dense(vocab_size, activation='softmax'))\n",
    "\n",
    "  # compile network\n",
    "  model.compile(loss='categorical_crossentropy', optimizer='adam', metrics=['accuracy'])\n",
    "\n",
    "  # summarize the model\n",
    "  if summary:\n",
    "    model.summary()\n",
    "    model_img_path = f'{MODELS_DIR}/model_with_gensim_embedding.png'\n",
    "    plot_model(model, to_file=model_img_path, show_shapes=True)\n",
    "  return model"
   ]
  },
  {
   "cell_type": "code",
   "execution_count": 11,
   "id": "03434e71-63e8-4b2f-93d1-576c1a673bf3",
   "metadata": {
    "tags": []
   },
   "outputs": [
    {
     "name": "stdout",
     "output_type": "stream",
     "text": [
      "Model: \"sequential\"\n",
      "_________________________________________________________________\n",
      " Layer (type)                Output Shape              Param #   \n",
      "=================================================================\n",
      " embedding (Embedding)       (None, None, 100)         276500    \n",
      "                                                                 \n",
      " bidirectional (Bidirection  (None, 200)               160800    \n",
      " al)                                                             \n",
      "                                                                 \n",
      " dropout (Dropout)           (None, 200)               0         \n",
      "                                                                 \n",
      " dense (Dense)               (None, 100)               20100     \n",
      "                                                                 \n",
      " dropout_1 (Dropout)         (None, 100)               0         \n",
      "                                                                 \n",
      " dense_1 (Dense)             (None, 2765)              279265    \n",
      "                                                                 \n",
      "=================================================================\n",
      "Total params: 736665 (2.81 MB)\n",
      "Trainable params: 460165 (1.76 MB)\n",
      "Non-trainable params: 276500 (1.05 MB)\n",
      "_________________________________________________________________\n"
     ]
    }
   ],
   "source": [
    "# define model\n",
    "model_with_gensim_embedding = define_model_with_embedding(vocab_size, seq_length)"
   ]
  },
  {
   "cell_type": "code",
   "execution_count": 12,
   "id": "e7d3e58e-5801-4997-ae58-97a1d7a8b5d4",
   "metadata": {
    "tags": []
   },
   "outputs": [
    {
     "name": "stdout",
     "output_type": "stream",
     "text": [
      "Epoch 1/100\n",
      "43/43 [==============================] - 24s 66ms/step - loss: 7.8227 - accuracy: 0.0160\n",
      "Epoch 2/100\n",
      "43/43 [==============================] - 3s 65ms/step - loss: 7.4956 - accuracy: 0.0238\n",
      "Epoch 3/100\n",
      "43/43 [==============================] - 3s 64ms/step - loss: 7.4360 - accuracy: 0.0238\n",
      "Epoch 4/100\n",
      "43/43 [==============================] - 3s 66ms/step - loss: 7.4136 - accuracy: 0.0238\n",
      "Epoch 5/100\n",
      "43/43 [==============================] - 3s 64ms/step - loss: 7.3982 - accuracy: 0.0238\n",
      "Epoch 6/100\n",
      "43/43 [==============================] - 3s 67ms/step - loss: 7.3740 - accuracy: 0.0240\n",
      "Epoch 7/100\n",
      "43/43 [==============================] - 3s 70ms/step - loss: 7.3249 - accuracy: 0.0244\n",
      "Epoch 8/100\n",
      "43/43 [==============================] - 3s 65ms/step - loss: 7.2385 - accuracy: 0.0256\n",
      "Epoch 9/100\n",
      "43/43 [==============================] - 3s 67ms/step - loss: 7.1390 - accuracy: 0.0251\n",
      "Epoch 10/100\n",
      "43/43 [==============================] - 3s 71ms/step - loss: 7.0368 - accuracy: 0.0253\n",
      "Epoch 11/100\n",
      "43/43 [==============================] - 3s 68ms/step - loss: 6.9308 - accuracy: 0.0251\n",
      "Epoch 12/100\n",
      "43/43 [==============================] - 3s 67ms/step - loss: 6.8163 - accuracy: 0.0246\n",
      "Epoch 13/100\n",
      "43/43 [==============================] - 3s 67ms/step - loss: 6.6945 - accuracy: 0.0238\n",
      "Epoch 14/100\n",
      "43/43 [==============================] - 3s 66ms/step - loss: 6.5667 - accuracy: 0.0242\n",
      "Epoch 15/100\n",
      "43/43 [==============================] - 3s 68ms/step - loss: 6.4510 - accuracy: 0.0253\n",
      "Epoch 16/100\n",
      "43/43 [==============================] - 3s 68ms/step - loss: 6.3162 - accuracy: 0.0235\n",
      "Epoch 17/100\n",
      "43/43 [==============================] - 3s 69ms/step - loss: 6.1762 - accuracy: 0.0227\n",
      "Epoch 18/100\n",
      "43/43 [==============================] - 3s 67ms/step - loss: 6.0177 - accuracy: 0.0240\n",
      "Epoch 19/100\n",
      "43/43 [==============================] - 3s 75ms/step - loss: 5.8758 - accuracy: 0.0260\n",
      "Epoch 20/100\n",
      "43/43 [==============================] - 3s 67ms/step - loss: 5.7377 - accuracy: 0.0229\n",
      "Epoch 21/100\n",
      "43/43 [==============================] - 3s 78ms/step - loss: 5.6063 - accuracy: 0.0236\n",
      "Epoch 22/100\n",
      "43/43 [==============================] - 3s 72ms/step - loss: 5.4628 - accuracy: 0.0251\n",
      "Epoch 23/100\n",
      "43/43 [==============================] - 3s 73ms/step - loss: 5.3230 - accuracy: 0.0282\n",
      "Epoch 24/100\n",
      "43/43 [==============================] - 3s 73ms/step - loss: 5.1874 - accuracy: 0.0366\n",
      "Epoch 25/100\n",
      "43/43 [==============================] - 3s 74ms/step - loss: 5.0515 - accuracy: 0.0417\n",
      "Epoch 26/100\n",
      "43/43 [==============================] - 3s 70ms/step - loss: 4.9429 - accuracy: 0.0547\n",
      "Epoch 27/100\n",
      "43/43 [==============================] - 3s 70ms/step - loss: 4.7929 - accuracy: 0.0671\n",
      "Epoch 28/100\n",
      "43/43 [==============================] - 3s 71ms/step - loss: 4.6749 - accuracy: 0.0753\n",
      "Epoch 29/100\n",
      "43/43 [==============================] - 3s 70ms/step - loss: 4.5532 - accuracy: 0.0831\n",
      "Epoch 30/100\n",
      "43/43 [==============================] - 3s 69ms/step - loss: 4.4267 - accuracy: 0.1022\n",
      "Epoch 31/100\n",
      "43/43 [==============================] - 3s 71ms/step - loss: 4.3422 - accuracy: 0.1108\n",
      "Epoch 32/100\n",
      "43/43 [==============================] - 3s 71ms/step - loss: 4.2025 - accuracy: 0.1342\n",
      "Epoch 33/100\n",
      "43/43 [==============================] - 3s 68ms/step - loss: 4.1204 - accuracy: 0.1457\n",
      "Epoch 34/100\n",
      "43/43 [==============================] - 3s 69ms/step - loss: 4.0173 - accuracy: 0.1632\n",
      "Epoch 35/100\n",
      "43/43 [==============================] - 3s 70ms/step - loss: 3.9258 - accuracy: 0.1744\n",
      "Epoch 36/100\n",
      "43/43 [==============================] - 3s 69ms/step - loss: 3.8347 - accuracy: 0.1917\n",
      "Epoch 37/100\n",
      "43/43 [==============================] - 3s 73ms/step - loss: 3.7639 - accuracy: 0.1999\n",
      "Epoch 38/100\n",
      "43/43 [==============================] - 4s 85ms/step - loss: 3.6532 - accuracy: 0.2159\n",
      "Epoch 39/100\n",
      "43/43 [==============================] - 5s 116ms/step - loss: 3.5925 - accuracy: 0.2357\n",
      "Epoch 40/100\n",
      "43/43 [==============================] - 5s 108ms/step - loss: 3.5114 - accuracy: 0.2388\n",
      "Epoch 41/100\n",
      "43/43 [==============================] - 5s 106ms/step - loss: 3.4364 - accuracy: 0.2492\n",
      "Epoch 42/100\n",
      "43/43 [==============================] - 4s 90ms/step - loss: 3.3802 - accuracy: 0.2654\n",
      "Epoch 43/100\n",
      "43/43 [==============================] - 3s 73ms/step - loss: 3.3177 - accuracy: 0.2748\n",
      "Epoch 44/100\n",
      "43/43 [==============================] - 2s 47ms/step - loss: 3.2383 - accuracy: 0.2877\n",
      "Epoch 45/100\n",
      "43/43 [==============================] - 2s 42ms/step - loss: 3.1980 - accuracy: 0.2941\n",
      "Epoch 46/100\n",
      "43/43 [==============================] - 2s 40ms/step - loss: 3.1456 - accuracy: 0.3052\n",
      "Epoch 47/100\n",
      "43/43 [==============================] - 2s 40ms/step - loss: 3.0895 - accuracy: 0.3159\n",
      "Epoch 48/100\n",
      "43/43 [==============================] - 2s 41ms/step - loss: 3.0208 - accuracy: 0.3267\n",
      "Epoch 49/100\n",
      "43/43 [==============================] - 2s 41ms/step - loss: 2.9965 - accuracy: 0.3207\n",
      "Epoch 50/100\n",
      "43/43 [==============================] - 2s 40ms/step - loss: 2.9625 - accuracy: 0.3367\n",
      "Epoch 51/100\n",
      "43/43 [==============================] - 2s 40ms/step - loss: 2.8523 - accuracy: 0.3616\n",
      "Epoch 52/100\n",
      "43/43 [==============================] - 2s 40ms/step - loss: 2.8552 - accuracy: 0.3543\n",
      "Epoch 53/100\n",
      "43/43 [==============================] - 2s 40ms/step - loss: 2.8266 - accuracy: 0.3643\n",
      "Epoch 54/100\n",
      "43/43 [==============================] - 2s 40ms/step - loss: 2.7364 - accuracy: 0.3756\n",
      "Epoch 55/100\n",
      "43/43 [==============================] - 2s 39ms/step - loss: 2.7081 - accuracy: 0.3834\n",
      "Epoch 56/100\n",
      "43/43 [==============================] - 2s 40ms/step - loss: 2.6812 - accuracy: 0.3960\n",
      "Epoch 57/100\n",
      "43/43 [==============================] - 2s 41ms/step - loss: 2.6466 - accuracy: 0.3994\n",
      "Epoch 58/100\n",
      "43/43 [==============================] - 2s 41ms/step - loss: 2.6061 - accuracy: 0.4087\n",
      "Epoch 59/100\n",
      "43/43 [==============================] - 2s 40ms/step - loss: 2.5727 - accuracy: 0.4040\n",
      "Epoch 60/100\n",
      "43/43 [==============================] - 2s 41ms/step - loss: 2.5520 - accuracy: 0.4185\n",
      "Epoch 61/100\n",
      "43/43 [==============================] - 2s 42ms/step - loss: 2.5068 - accuracy: 0.4251\n",
      "Epoch 62/100\n",
      "43/43 [==============================] - 2s 41ms/step - loss: 2.4889 - accuracy: 0.4265\n",
      "Epoch 63/100\n",
      "43/43 [==============================] - 2s 39ms/step - loss: 2.4383 - accuracy: 0.4362\n",
      "Epoch 64/100\n",
      "43/43 [==============================] - 2s 41ms/step - loss: 2.4536 - accuracy: 0.4342\n",
      "Epoch 65/100\n",
      "43/43 [==============================] - 2s 40ms/step - loss: 2.3972 - accuracy: 0.4380\n",
      "Epoch 66/100\n",
      "43/43 [==============================] - 2s 40ms/step - loss: 2.3752 - accuracy: 0.4403\n",
      "Epoch 67/100\n",
      "43/43 [==============================] - 2s 42ms/step - loss: 2.3242 - accuracy: 0.4694\n",
      "Epoch 68/100\n",
      "43/43 [==============================] - 2s 41ms/step - loss: 2.3392 - accuracy: 0.4549\n",
      "Epoch 69/100\n",
      "43/43 [==============================] - 2s 42ms/step - loss: 2.3154 - accuracy: 0.4634\n",
      "Epoch 70/100\n",
      "43/43 [==============================] - 2s 42ms/step - loss: 2.2748 - accuracy: 0.4644\n",
      "Epoch 71/100\n",
      "43/43 [==============================] - 2s 39ms/step - loss: 2.2647 - accuracy: 0.4682\n",
      "Epoch 72/100\n",
      "43/43 [==============================] - 2s 39ms/step - loss: 2.2185 - accuracy: 0.4869\n",
      "Epoch 73/100\n",
      "43/43 [==============================] - 2s 41ms/step - loss: 2.2132 - accuracy: 0.4813\n",
      "Epoch 74/100\n",
      "43/43 [==============================] - 2s 40ms/step - loss: 2.1770 - accuracy: 0.4953\n",
      "Epoch 75/100\n",
      "43/43 [==============================] - 2s 41ms/step - loss: 2.1715 - accuracy: 0.4938\n",
      "Epoch 76/100\n",
      "43/43 [==============================] - 2s 41ms/step - loss: 2.1404 - accuracy: 0.4962\n",
      "Epoch 77/100\n",
      "43/43 [==============================] - 2s 40ms/step - loss: 2.1254 - accuracy: 0.4980\n",
      "Epoch 78/100\n",
      "43/43 [==============================] - 2s 41ms/step - loss: 2.1242 - accuracy: 0.4982\n",
      "Epoch 79/100\n",
      "43/43 [==============================] - 2s 44ms/step - loss: 2.1261 - accuracy: 0.4969\n",
      "Epoch 80/100\n",
      "43/43 [==============================] - 2s 41ms/step - loss: 2.0626 - accuracy: 0.5091\n",
      "Epoch 81/100\n",
      "43/43 [==============================] - 2s 39ms/step - loss: 2.0492 - accuracy: 0.5120\n",
      "Epoch 82/100\n",
      "43/43 [==============================] - 2s 40ms/step - loss: 2.0357 - accuracy: 0.5113\n",
      "Epoch 83/100\n",
      "43/43 [==============================] - 2s 40ms/step - loss: 2.0077 - accuracy: 0.5271\n",
      "Epoch 84/100\n",
      "43/43 [==============================] - 2s 40ms/step - loss: 2.0028 - accuracy: 0.5231\n",
      "Epoch 85/100\n",
      "43/43 [==============================] - 2s 40ms/step - loss: 1.9812 - accuracy: 0.5295\n",
      "Epoch 86/100\n",
      "43/43 [==============================] - 2s 40ms/step - loss: 1.9684 - accuracy: 0.5289\n",
      "Epoch 87/100\n",
      "43/43 [==============================] - 2s 40ms/step - loss: 1.9511 - accuracy: 0.5313\n",
      "Epoch 88/100\n",
      "43/43 [==============================] - 2s 39ms/step - loss: 1.9249 - accuracy: 0.5389\n",
      "Epoch 89/100\n",
      "43/43 [==============================] - 2s 40ms/step - loss: 1.9503 - accuracy: 0.5300\n",
      "Epoch 90/100\n",
      "43/43 [==============================] - 2s 42ms/step - loss: 1.9194 - accuracy: 0.5398\n",
      "Epoch 91/100\n",
      "43/43 [==============================] - 2s 42ms/step - loss: 1.9117 - accuracy: 0.5433\n",
      "Epoch 92/100\n",
      "43/43 [==============================] - 2s 41ms/step - loss: 1.9155 - accuracy: 0.5378\n",
      "Epoch 93/100\n",
      "43/43 [==============================] - 2s 41ms/step - loss: 1.8851 - accuracy: 0.5493\n",
      "Epoch 94/100\n",
      "43/43 [==============================] - 2s 41ms/step - loss: 1.8523 - accuracy: 0.5531\n",
      "Epoch 95/100\n",
      "43/43 [==============================] - 2s 41ms/step - loss: 1.8604 - accuracy: 0.5535\n",
      "Epoch 96/100\n",
      "43/43 [==============================] - 2s 41ms/step - loss: 1.8312 - accuracy: 0.5560\n",
      "Epoch 97/100\n",
      "43/43 [==============================] - 2s 40ms/step - loss: 1.8314 - accuracy: 0.5598\n",
      "Epoch 98/100\n",
      "43/43 [==============================] - 2s 41ms/step - loss: 1.8029 - accuracy: 0.5662\n",
      "Epoch 99/100\n",
      "43/43 [==============================] - 2s 41ms/step - loss: 1.7949 - accuracy: 0.5662\n",
      "Epoch 100/100\n",
      "43/43 [==============================] - 2s 41ms/step - loss: 1.8026 - accuracy: 0.5586\n"
     ]
    },
    {
     "data": {
      "text/plain": [
       "<keras.src.callbacks.History at 0x1c57f4fe5d0>"
      ]
     },
     "execution_count": 12,
     "metadata": {},
     "output_type": "execute_result"
    }
   ],
   "source": [
    "# fit model\n",
    "model_with_gensim_embedding.fit(X, y, batch_size=128, epochs=100)"
   ]
  },
  {
   "cell_type": "code",
   "execution_count": 13,
   "id": "d23155b2-4037-4653-96b4-b283d9958365",
   "metadata": {
    "tags": []
   },
   "outputs": [],
   "source": [
    "from pickle import dump\n",
    "\n",
    "# save the model to file\n",
    "model_with_gensim_embedding.save(f'{MODELS_DIR}/model_with_gensim_embedding.keras')"
   ]
  },
  {
   "cell_type": "code",
   "execution_count": 14,
   "id": "7347bb6f-db1a-467c-9539-dc367e312082",
   "metadata": {
    "tags": []
   },
   "outputs": [],
   "source": [
    "# define a function to decoded encoded text sequences produced by the model during\n",
    "# a prediction\n",
    "def decode_index_with_word2vec(predicted_word_index, model):\n",
    "  # OOV configuration\n",
    "  oov_token = \"<OOV>\"\n",
    "\n",
    "  for word, index in model.wv.key_to_index.items():\n",
    "    if index == predicted_word_index:\n",
    "      return word\n",
    "\n",
    "  return oov_token"
   ]
  },
  {
   "cell_type": "code",
   "execution_count": 15,
   "id": "692f4808-863d-45f4-a75d-8bdf51dbf6f6",
   "metadata": {
    "tags": []
   },
   "outputs": [],
   "source": [
    "from random import randint\n",
    "from pickle import load\n",
    "from keras.models import load_model\n",
    "from keras.preprocessing.sequence import pad_sequences\n",
    "import numpy as np\n",
    "# generate a sequence from a language model\n",
    "def generate_seq(model, w2v_model, seq_length, seed_text, n_words):\n",
    "  result = list()\n",
    "  in_text = seed_text\n",
    "  # generate a fixed number of words\n",
    "  for _ in range(n_words):\n",
    "    # encode the text as integer\n",
    "    encoded = encode_text_with_word2vec([in_text], w2v_model)[0]\n",
    "    # truncate sequences to a fixed length\n",
    "    encoded = pad_sequences([encoded], maxlen=seq_length, truncating='pre')\n",
    "    # predict probabilities for each word\n",
    "    yhat = model.predict(encoded, verbose=0)\n",
    "    # map predicted word index to word\n",
    "    predicted_word_index = np.argmax(yhat)  # Find the index with the highest probability\n",
    "    out_word = decode_index_with_word2vec(predicted_word_index, w2v_model)\n",
    "    # append to input\n",
    "    in_text += ' ' + out_word\n",
    "    result.append(out_word)\n",
    "  return ' '.join(result)"
   ]
  },
  {
   "cell_type": "code",
   "execution_count": 18,
   "id": "70b3d618-9194-438b-adb6-a62aeafb493b",
   "metadata": {
    "tags": []
   },
   "outputs": [
    {
     "name": "stdout",
     "output_type": "stream",
     "text": [
      "fire guard vakakomberedza misha yavo uyewo pove nemafire committee mumasabhuku ose [START] kusvika kuwadhi kuti nekuti zvichibatsira [END]\n"
     ]
    }
   ],
   "source": [
    "seed_text = lines[randint(0,len(lines))]\n",
    "pred = generate_seq(model_with_gensim_embedding, w2v_model, seq_length, seed_text, 5)\n",
    "print(seed_text + ' [START] ' + pred + ' [END]')"
   ]
  },
  {
   "cell_type": "markdown",
   "id": "e391100f-b633-4ecc-b3a0-016e8e965ac5",
   "metadata": {},
   "source": [
    "## Training with cross validation for model selection"
   ]
  },
  {
   "cell_type": "code",
   "execution_count": 46,
   "id": "fe9a7cd1-22f0-4256-b006-2ebe306b7ba0",
   "metadata": {
    "tags": []
   },
   "outputs": [],
   "source": [
    "from sklearn.model_selection import KFold\n",
    "import numpy as np"
   ]
  },
  {
   "cell_type": "code",
   "execution_count": 47,
   "id": "9e7bf776-dc94-4518-ae70-fcf955cfc224",
   "metadata": {
    "tags": []
   },
   "outputs": [],
   "source": [
    "# fix random seed for reproducibility\n",
    "seed = 7\n",
    "np.random.seed(seed)"
   ]
  },
  {
   "cell_type": "code",
   "execution_count": null,
   "id": "2176d127-4287-47c4-8302-eb6a82f0d5f0",
   "metadata": {
    "tags": []
   },
   "outputs": [],
   "source": [
    "# define 5-fold cross validation test harness\n",
    "kfold = KFold(n_splits=5, shuffle=True, random_state=seed)\n",
    "\n",
    "cvscores = []\n",
    "for train, test in kfold.split(X, y):\n",
    "    # compile the model\n",
    "    model_with_embedding = define_model_with_embedding(vocab_size, seq_length, summary=False)\n",
    "    \n",
    "    # Fit the model\n",
    "    model_with_embedding.fit(X[train], y[train], epochs=20, batch_size=128)\n",
    "    \n",
    "    # Evaluate the model\n",
    "    model_with_embedding.evaluate(X[test], y[test])\n",
    "    print(\"Accuracy = %s: %.2f%%\" % (model_with_embedding.metrics_names[1], scores[1]*100))\n",
    "    cvscores.append(scores[1] * 100)\n",
    "print(\"Mean Accuracy = %.2f%% (+/- %.2f%%)\" % (np.mean(cvscores), np.std(cvscores)))"
   ]
  }
 ],
 "metadata": {
  "kernelspec": {
   "display_name": "Python 3 (ipykernel)",
   "language": "python",
   "name": "python3"
  },
  "language_info": {
   "codemirror_mode": {
    "name": "ipython",
    "version": 3
   },
   "file_extension": ".py",
   "mimetype": "text/x-python",
   "name": "python",
   "nbconvert_exporter": "python",
   "pygments_lexer": "ipython3",
   "version": "3.11.4"
  }
 },
 "nbformat": 4,
 "nbformat_minor": 5
}
