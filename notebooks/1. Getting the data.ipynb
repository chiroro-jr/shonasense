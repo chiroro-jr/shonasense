{
 "cells": [
  {
   "cell_type": "markdown",
   "id": "de9aa97c-81cc-4f45-a146-669db5c31dec",
   "metadata": {
    "tags": []
   },
   "source": [
    "# Scrapping Kwayedza for Shona dataset\n",
    "I will be scrapping [https://www.kwayedza.co.zw/](https://www.kwayedza.co.zw/) to build a Shona language dataset which I will use to build the vocabulary for\n",
    "the autocompletion web application which I will call **ShonaSense**."
   ]
  },
  {
   "cell_type": "code",
   "execution_count": 1,
   "id": "ccbbc7fc-8823-4ef0-9c71-4a25232c5f31",
   "metadata": {
    "tags": []
   },
   "outputs": [],
   "source": [
    "# Required libraries\n",
    "from bs4 import BeautifulSoup\n",
    "import requests"
   ]
  },
  {
   "cell_type": "code",
   "execution_count": 2,
   "id": "597f8a00-e0fd-4201-8315-fe897c485d73",
   "metadata": {
    "tags": []
   },
   "outputs": [],
   "source": [
    "DATASETS_DIR = \"../datasets/\""
   ]
  },
  {
   "cell_type": "code",
   "execution_count": 9,
   "id": "44e6e6cd-e979-48ee-9bda-c1d22038bff7",
   "metadata": {
    "tags": []
   },
   "outputs": [],
   "source": [
    "# blog categories on kwayedza.co.zw\n",
    "blog_categories = [\n",
    "    \"https://www.kwayedza.co.zw/category/nhau-dzemuno/\",\n",
    "]"
   ]
  },
  {
   "cell_type": "code",
   "execution_count": 10,
   "id": "6fa15c19-8836-4636-97bc-f410c7c006e0",
   "metadata": {
    "tags": []
   },
   "outputs": [
    {
     "data": {
      "text/plain": [
       "['https://www.kwayedza.co.zw/psl-yoshora-mhirizhonga-munhabvu/',\n",
       " 'https://www.kwayedza.co.zw/musungwa-akarova-gadhijeri-mucourt/',\n",
       " 'https://www.kwayedza.co.zw/bishop-wekukiira-mwana-mumba-atiza/',\n",
       " 'https://www.kwayedza.co.zw/vanhu-12-vasungirwa-mhirizhonga-yekubabourfields/',\n",
       " 'https://www.kwayedza.co.zw/vechidiki-musangogara-zvishandirei/']"
      ]
     },
     "execution_count": 10,
     "metadata": {},
     "output_type": "execute_result"
    }
   ],
   "source": [
    "# Get all blog links in each category\n",
    "def get_blog_links(categories):\n",
    "    links = set()\n",
    "\n",
    "    for category in categories:\n",
    "        try:\n",
    "            res = requests.get(category)\n",
    "            res.raise_for_status()  # Raise an exception for HTTP errors (e.g., 404)\n",
    "\n",
    "            soup = BeautifulSoup(res.text, 'html.parser')\n",
    "            news_cards = soup.find_all('div', attrs={'itemtype': 'http://schema.org/NewsArticle'})\n",
    "            headings = [card.find('h3', attrs={'class': 'entry-title list-article-title'}) for card in news_cards]\n",
    "            links.update([heading.a['href'] for heading in headings])\n",
    "\n",
    "        except requests.exceptions.RequestException as e:\n",
    "            # Handle HTTP request errors (e.g., connection error)\n",
    "            print(f\"Error making HTTP request for {category}: {e}\")\n",
    "            continue\n",
    "        except Exception as e:\n",
    "            # Handle other exceptions (e.g., parsing error)\n",
    "            print(f\"Error parsing {category}: {e}\")\n",
    "            continue\n",
    "\n",
    "    return list(links)\n",
    "\n",
    "\n",
    "blog_links = get_blog_links(blog_categories)\n",
    "blog_links[:5]"
   ]
  },
  {
   "cell_type": "code",
   "execution_count": 11,
   "id": "c9365624-d636-4ccc-9f44-061759c9a47f",
   "metadata": {
    "tags": []
   },
   "outputs": [
    {
     "data": {
      "text/plain": [
       "20"
      ]
     },
     "execution_count": 11,
     "metadata": {},
     "output_type": "execute_result"
    }
   ],
   "source": [
    "# How many blog links were scrapped?\n",
    "len(blog_links)"
   ]
  },
  {
   "cell_type": "code",
   "execution_count": 12,
   "id": "bc592737-7fc3-4823-97d1-3ac102865b20",
   "metadata": {
    "tags": []
   },
   "outputs": [
    {
     "name": "stdout",
     "output_type": "stream",
     "text": [
      "Links have been saved to ../datasets//blog_links.txt\n"
     ]
    }
   ],
   "source": [
    "# Save links to file (checkpoint)\n",
    "def save_links_to_file(links, file_path):\n",
    "    try:\n",
    "        with open(file_path, \"w\") as file:\n",
    "            for link in links:\n",
    "                file.write(link + \"\\n\")\n",
    "        print(\"Links have been saved to\", file_path)\n",
    "    except Exception as e:\n",
    "        print(\"An error occurred:\", str(e))\n",
    "\n",
    "file_path = f\"{DATASETS_DIR}/blog_links.txt\"\n",
    "save_links_to_file(blog_links, file_path)"
   ]
  },
  {
   "cell_type": "code",
   "execution_count": 9,
   "id": "1aeedd14-aa87-4b0d-ab58-0f37dbed0c84",
   "metadata": {
    "tags": []
   },
   "outputs": [
    {
     "data": {
      "text/plain": [
       "['MUFUNDISI wekuMakokoba, kuBulawayo, akashamisa vagari venzvimbo iyi apo akarova muroja wake uyo anove n’anga asina kupfeka sechirango chekuridza mimhanzi zvine ruzha rwakanyanyisa apo iye aive pakati pekuitisa svondo.',\n",
       " 'Mufundisi uye muvambi wechechi yeTsime Rase Birthsider, Pastor Khumbulani Mzizi, uyo aiitisa chechi pamba pake, akarova Sikhululiwe Dube apo airidza mimhanzi zvine ruzha pawairesi yake.',\n",
       " 'Zvinonzi Mzizi paaiita svondo kumba kwake, Dube akatanga kuridza mimhanzi zvine ruzha.',\n",
       " 'Izvi hazvina kufadza mufundisi uyu, ndokutanga kupomera Dube mhosva yekumuvhiringa iye neveungano rake vari pakati pekunamata.',\n",
       " 'Mzizi akaudza Dube kuti adzikise ruzha rwewairesi yake asi akaramba.']"
      ]
     },
     "execution_count": 9,
     "metadata": {},
     "output_type": "execute_result"
    }
   ],
   "source": [
    "# Get the content of all the blogs\n",
    "def get_blog_content(links):\n",
    "    content = []\n",
    "\n",
    "    for link in links:\n",
    "        try:\n",
    "            res = requests.get(link)\n",
    "            res.raise_for_status()  # Raise an exception for HTTP errors (e.g., 404)\n",
    "\n",
    "            soup = BeautifulSoup(res.text, 'html.parser')\n",
    "            blog_content = soup.find('div', attrs={\"class\":\"entry-content\", \"id\":\"article-content\"})\n",
    "            paragraphs = blog_content.find_all('p')\n",
    "\n",
    "            for paragraph in paragraphs:\n",
    "                if 'class' in paragraph.attrs:\n",
    "                    if paragraph['class'] in [['fn', 'org'], ['wp-caption-text'], ['']]:\n",
    "                        continue\n",
    "\n",
    "                if paragraph.strong:\n",
    "                    continue\n",
    "\n",
    "                content.append(paragraph.string)\n",
    "\n",
    "        except requests.exceptions.RequestException as e:\n",
    "            # Handle HTTP request errors (e.g., connection error)\n",
    "            print(f\"Error making HTTP request for {link}: {e}\")\n",
    "            continue\n",
    "        except Exception as e:\n",
    "            # Handle other exceptions (e.g., parsing error)\n",
    "            print(f\"Error parsing {link}: {e}\")\n",
    "            continue\n",
    "\n",
    "    return content\n",
    "\n",
    "\n",
    "content = get_blog_content(blog_links)\n",
    "content[:5]"
   ]
  },
  {
   "cell_type": "code",
   "execution_count": 11,
   "id": "51979df2-4a32-425b-bb6c-043c2c9b7511",
   "metadata": {
    "tags": []
   },
   "outputs": [],
   "source": [
    "# Save the content to file (checkpoint)\n",
    "# This will be used later to build the vocabulary for the model\n",
    "def save_content(content, file_path):\n",
    "    # Filter out None values and join the remaining strings into a single document\n",
    "    document_text = \"\\n\".join([text for text in content if text is not None])\n",
    "\n",
    "    # Save the document to the specified file path\n",
    "    with open(file_path, 'w', encoding='utf-8') as file:\n",
    "        file.write(document_text)\n",
    "\n",
    "\n",
    "\n",
    "file_path = f\"{DATASETS_DIR}/content.txt\"\n",
    "save_content(content, file_path)"
   ]
  }
 ],
 "metadata": {
  "kernelspec": {
   "display_name": "Python 3 (ipykernel)",
   "language": "python",
   "name": "python3"
  },
  "language_info": {
   "codemirror_mode": {
    "name": "ipython",
    "version": 3
   },
   "file_extension": ".py",
   "mimetype": "text/x-python",
   "name": "python",
   "nbconvert_exporter": "python",
   "pygments_lexer": "ipython3",
   "version": "3.11.4"
  }
 },
 "nbformat": 4,
 "nbformat_minor": 5
}
